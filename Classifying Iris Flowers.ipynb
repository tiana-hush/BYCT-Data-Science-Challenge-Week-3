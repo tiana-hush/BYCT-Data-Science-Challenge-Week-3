{
 "cells": [
  {
   "cell_type": "markdown",
   "id": "a782b7f0",
   "metadata": {},
   "source": [
    "# Wk3:Classifying Iris Flowers "
   ]
  },
  {
   "cell_type": "markdown",
   "id": "33af1ff8",
   "metadata": {},
   "source": [
    "# Dataset Features\n",
    "Source: UCI Machine Learning Repository.\n",
    "Size:5.1 KB\n",
    "Row:151\n",
    "\n",
    "columns: 6; ['Id', 'SepalLengthCm', 'SepalWidthCm', 'PetalLengthCm', 'PetalWidthCm','Species']\n",
    "\n",
    "# Problem defination:\n",
    "As a data scientist working for a botanical research institute, tasked to develop a machine learning model that can accurately classify species of Iris flowers based on their physical characteristics. The model should help botanists quickly identify species in the field, aiding in research and conservation efforts.\n",
    "\n",
    "# Objective: \n",
    "Build a machine learning model to classify Iris flowers into three species: Iris Setosa, Iris Versicolor, and Iris Virginica. The dataset provides features like sepal and petal length/width for each flower.\n",
    "\n",
    "# Steps:\n",
    "\n",
    "Data Preparation:Use Python libraries like Pandas to import and explore the data.\n",
    "\n",
    "Model Building: Build and train the model on the prepared data.\n",
    "\n",
    "Model Evaluation: Use a confusion matrix to assess model performance."
   ]
  },
  {
   "cell_type": "markdown",
   "id": "a3154091",
   "metadata": {},
   "source": [
    "# 1: Data Preparation\n",
    "\n",
    "Import Necessary libraries"
   ]
  },
  {
   "cell_type": "code",
   "execution_count": 48,
   "id": "3a3aa953",
   "metadata": {},
   "outputs": [],
   "source": [
    "import warnings\n",
    "warnings.filterwarnings('ignore')\n",
    "\n",
    "#First,install all dependancies needed then import the necessary libraries for the task \n",
    "import pandas as pd\n",
    "import numpy as np\n",
    "import seaborn as sns\n",
    "import matplotlib.pyplot as plt "
   ]
  },
  {
   "cell_type": "markdown",
   "id": "33fe9c7c",
   "metadata": {},
   "source": [
    "# Load Data"
   ]
  },
  {
   "cell_type": "code",
   "execution_count": 49,
   "id": "02108fad",
   "metadata": {},
   "outputs": [
    {
     "data": {
      "text/html": [
       "<div>\n",
       "<style scoped>\n",
       "    .dataframe tbody tr th:only-of-type {\n",
       "        vertical-align: middle;\n",
       "    }\n",
       "\n",
       "    .dataframe tbody tr th {\n",
       "        vertical-align: top;\n",
       "    }\n",
       "\n",
       "    .dataframe thead th {\n",
       "        text-align: right;\n",
       "    }\n",
       "</style>\n",
       "<table border=\"1\" class=\"dataframe\">\n",
       "  <thead>\n",
       "    <tr style=\"text-align: right;\">\n",
       "      <th></th>\n",
       "      <th>Id</th>\n",
       "      <th>SepalLengthCm</th>\n",
       "      <th>SepalWidthCm</th>\n",
       "      <th>PetalLengthCm</th>\n",
       "      <th>PetalWidthCm</th>\n",
       "      <th>Species</th>\n",
       "    </tr>\n",
       "  </thead>\n",
       "  <tbody>\n",
       "    <tr>\n",
       "      <th>0</th>\n",
       "      <td>1</td>\n",
       "      <td>5.1</td>\n",
       "      <td>3.5</td>\n",
       "      <td>1.4</td>\n",
       "      <td>0.2</td>\n",
       "      <td>Iris-setosa</td>\n",
       "    </tr>\n",
       "    <tr>\n",
       "      <th>1</th>\n",
       "      <td>2</td>\n",
       "      <td>4.9</td>\n",
       "      <td>3.0</td>\n",
       "      <td>1.4</td>\n",
       "      <td>0.2</td>\n",
       "      <td>Iris-setosa</td>\n",
       "    </tr>\n",
       "    <tr>\n",
       "      <th>2</th>\n",
       "      <td>3</td>\n",
       "      <td>4.7</td>\n",
       "      <td>3.2</td>\n",
       "      <td>1.3</td>\n",
       "      <td>0.2</td>\n",
       "      <td>Iris-setosa</td>\n",
       "    </tr>\n",
       "    <tr>\n",
       "      <th>3</th>\n",
       "      <td>4</td>\n",
       "      <td>4.6</td>\n",
       "      <td>3.1</td>\n",
       "      <td>1.5</td>\n",
       "      <td>0.2</td>\n",
       "      <td>Iris-setosa</td>\n",
       "    </tr>\n",
       "    <tr>\n",
       "      <th>4</th>\n",
       "      <td>5</td>\n",
       "      <td>5.0</td>\n",
       "      <td>3.6</td>\n",
       "      <td>1.4</td>\n",
       "      <td>0.2</td>\n",
       "      <td>Iris-setosa</td>\n",
       "    </tr>\n",
       "  </tbody>\n",
       "</table>\n",
       "</div>"
      ],
      "text/plain": [
       "   Id  SepalLengthCm  SepalWidthCm  PetalLengthCm  PetalWidthCm      Species\n",
       "0   1            5.1           3.5            1.4           0.2  Iris-setosa\n",
       "1   2            4.9           3.0            1.4           0.2  Iris-setosa\n",
       "2   3            4.7           3.2            1.3           0.2  Iris-setosa\n",
       "3   4            4.6           3.1            1.5           0.2  Iris-setosa\n",
       "4   5            5.0           3.6            1.4           0.2  Iris-setosa"
      ]
     },
     "execution_count": 49,
     "metadata": {},
     "output_type": "execute_result"
    }
   ],
   "source": [
    "#Load the data provided ->Dataset (Iris_Data)\n",
    "Iris_data= pd.read_csv(r'C:/Users/Christiana/Desktop/BYCT-Data Science Challenge/Iris.csv')\n",
    "Iris_data.head(5)"
   ]
  },
  {
   "cell_type": "code",
   "execution_count": 50,
   "id": "ee43cc63",
   "metadata": {},
   "outputs": [
    {
     "name": "stdout",
     "output_type": "stream",
     "text": [
      "<class 'pandas.core.frame.DataFrame'>\n",
      "RangeIndex: 150 entries, 0 to 149\n",
      "Data columns (total 6 columns):\n",
      " #   Column         Non-Null Count  Dtype  \n",
      "---  ------         --------------  -----  \n",
      " 0   Id             150 non-null    int64  \n",
      " 1   SepalLengthCm  150 non-null    float64\n",
      " 2   SepalWidthCm   150 non-null    float64\n",
      " 3   PetalLengthCm  150 non-null    float64\n",
      " 4   PetalWidthCm   150 non-null    float64\n",
      " 5   Species        150 non-null    object \n",
      "dtypes: float64(4), int64(1), object(1)\n",
      "memory usage: 7.2+ KB\n"
     ]
    }
   ],
   "source": [
    "#Get basic information about the data,to help understand your datatset and dataypes\n",
    "Iris_data.info()"
   ]
  },
  {
   "cell_type": "code",
   "execution_count": 51,
   "id": "e58a1b27",
   "metadata": {},
   "outputs": [
    {
     "data": {
      "text/html": [
       "<div>\n",
       "<style scoped>\n",
       "    .dataframe tbody tr th:only-of-type {\n",
       "        vertical-align: middle;\n",
       "    }\n",
       "\n",
       "    .dataframe tbody tr th {\n",
       "        vertical-align: top;\n",
       "    }\n",
       "\n",
       "    .dataframe thead th {\n",
       "        text-align: right;\n",
       "    }\n",
       "</style>\n",
       "<table border=\"1\" class=\"dataframe\">\n",
       "  <thead>\n",
       "    <tr style=\"text-align: right;\">\n",
       "      <th></th>\n",
       "      <th>Id</th>\n",
       "      <th>SepalLengthCm</th>\n",
       "      <th>SepalWidthCm</th>\n",
       "      <th>PetalLengthCm</th>\n",
       "      <th>PetalWidthCm</th>\n",
       "    </tr>\n",
       "  </thead>\n",
       "  <tbody>\n",
       "    <tr>\n",
       "      <th>count</th>\n",
       "      <td>150.000000</td>\n",
       "      <td>150.000000</td>\n",
       "      <td>150.000000</td>\n",
       "      <td>150.000000</td>\n",
       "      <td>150.000000</td>\n",
       "    </tr>\n",
       "    <tr>\n",
       "      <th>mean</th>\n",
       "      <td>75.500000</td>\n",
       "      <td>5.843333</td>\n",
       "      <td>3.054000</td>\n",
       "      <td>3.758667</td>\n",
       "      <td>1.198667</td>\n",
       "    </tr>\n",
       "    <tr>\n",
       "      <th>std</th>\n",
       "      <td>43.445368</td>\n",
       "      <td>0.828066</td>\n",
       "      <td>0.433594</td>\n",
       "      <td>1.764420</td>\n",
       "      <td>0.763161</td>\n",
       "    </tr>\n",
       "    <tr>\n",
       "      <th>min</th>\n",
       "      <td>1.000000</td>\n",
       "      <td>4.300000</td>\n",
       "      <td>2.000000</td>\n",
       "      <td>1.000000</td>\n",
       "      <td>0.100000</td>\n",
       "    </tr>\n",
       "    <tr>\n",
       "      <th>25%</th>\n",
       "      <td>38.250000</td>\n",
       "      <td>5.100000</td>\n",
       "      <td>2.800000</td>\n",
       "      <td>1.600000</td>\n",
       "      <td>0.300000</td>\n",
       "    </tr>\n",
       "    <tr>\n",
       "      <th>50%</th>\n",
       "      <td>75.500000</td>\n",
       "      <td>5.800000</td>\n",
       "      <td>3.000000</td>\n",
       "      <td>4.350000</td>\n",
       "      <td>1.300000</td>\n",
       "    </tr>\n",
       "    <tr>\n",
       "      <th>75%</th>\n",
       "      <td>112.750000</td>\n",
       "      <td>6.400000</td>\n",
       "      <td>3.300000</td>\n",
       "      <td>5.100000</td>\n",
       "      <td>1.800000</td>\n",
       "    </tr>\n",
       "    <tr>\n",
       "      <th>max</th>\n",
       "      <td>150.000000</td>\n",
       "      <td>7.900000</td>\n",
       "      <td>4.400000</td>\n",
       "      <td>6.900000</td>\n",
       "      <td>2.500000</td>\n",
       "    </tr>\n",
       "  </tbody>\n",
       "</table>\n",
       "</div>"
      ],
      "text/plain": [
       "               Id  SepalLengthCm  SepalWidthCm  PetalLengthCm  PetalWidthCm\n",
       "count  150.000000     150.000000    150.000000     150.000000    150.000000\n",
       "mean    75.500000       5.843333      3.054000       3.758667      1.198667\n",
       "std     43.445368       0.828066      0.433594       1.764420      0.763161\n",
       "min      1.000000       4.300000      2.000000       1.000000      0.100000\n",
       "25%     38.250000       5.100000      2.800000       1.600000      0.300000\n",
       "50%     75.500000       5.800000      3.000000       4.350000      1.300000\n",
       "75%    112.750000       6.400000      3.300000       5.100000      1.800000\n",
       "max    150.000000       7.900000      4.400000       6.900000      2.500000"
      ]
     },
     "execution_count": 51,
     "metadata": {},
     "output_type": "execute_result"
    }
   ],
   "source": [
    "Iris_data.describe() # Numerical description of the data"
   ]
  },
  {
   "cell_type": "code",
   "execution_count": 52,
   "id": "54baac06",
   "metadata": {},
   "outputs": [
    {
     "data": {
      "text/plain": [
       "Index(['Id', 'SepalLengthCm', 'SepalWidthCm', 'PetalLengthCm', 'PetalWidthCm',\n",
       "       'Species'],\n",
       "      dtype='object')"
      ]
     },
     "execution_count": 52,
     "metadata": {},
     "output_type": "execute_result"
    }
   ],
   "source": [
    "Iris_data.columns #viewing your column names"
   ]
  },
  {
   "cell_type": "markdown",
   "id": "3789f1e4",
   "metadata": {},
   "source": [
    "# Handling Missing Values\n",
    "\n",
    "- Checking for duplicates\n",
    "\n",
    "- Check and Replace missing values"
   ]
  },
  {
   "cell_type": "code",
   "execution_count": 53,
   "id": "05380da7",
   "metadata": {},
   "outputs": [
    {
     "data": {
      "text/html": [
       "<div>\n",
       "<style scoped>\n",
       "    .dataframe tbody tr th:only-of-type {\n",
       "        vertical-align: middle;\n",
       "    }\n",
       "\n",
       "    .dataframe tbody tr th {\n",
       "        vertical-align: top;\n",
       "    }\n",
       "\n",
       "    .dataframe thead th {\n",
       "        text-align: right;\n",
       "    }\n",
       "</style>\n",
       "<table border=\"1\" class=\"dataframe\">\n",
       "  <thead>\n",
       "    <tr style=\"text-align: right;\">\n",
       "      <th></th>\n",
       "      <th>Id</th>\n",
       "      <th>SepalLengthCm</th>\n",
       "      <th>SepalWidthCm</th>\n",
       "      <th>PetalLengthCm</th>\n",
       "      <th>PetalWidthCm</th>\n",
       "      <th>Species</th>\n",
       "    </tr>\n",
       "  </thead>\n",
       "  <tbody>\n",
       "    <tr>\n",
       "      <th>0</th>\n",
       "      <td>False</td>\n",
       "      <td>False</td>\n",
       "      <td>False</td>\n",
       "      <td>False</td>\n",
       "      <td>False</td>\n",
       "      <td>False</td>\n",
       "    </tr>\n",
       "    <tr>\n",
       "      <th>1</th>\n",
       "      <td>False</td>\n",
       "      <td>False</td>\n",
       "      <td>False</td>\n",
       "      <td>False</td>\n",
       "      <td>False</td>\n",
       "      <td>False</td>\n",
       "    </tr>\n",
       "    <tr>\n",
       "      <th>2</th>\n",
       "      <td>False</td>\n",
       "      <td>False</td>\n",
       "      <td>False</td>\n",
       "      <td>False</td>\n",
       "      <td>False</td>\n",
       "      <td>False</td>\n",
       "    </tr>\n",
       "    <tr>\n",
       "      <th>3</th>\n",
       "      <td>False</td>\n",
       "      <td>False</td>\n",
       "      <td>False</td>\n",
       "      <td>False</td>\n",
       "      <td>False</td>\n",
       "      <td>False</td>\n",
       "    </tr>\n",
       "    <tr>\n",
       "      <th>4</th>\n",
       "      <td>False</td>\n",
       "      <td>False</td>\n",
       "      <td>False</td>\n",
       "      <td>False</td>\n",
       "      <td>False</td>\n",
       "      <td>False</td>\n",
       "    </tr>\n",
       "  </tbody>\n",
       "</table>\n",
       "</div>"
      ],
      "text/plain": [
       "      Id  SepalLengthCm  SepalWidthCm  PetalLengthCm  PetalWidthCm  Species\n",
       "0  False          False         False          False         False    False\n",
       "1  False          False         False          False         False    False\n",
       "2  False          False         False          False         False    False\n",
       "3  False          False         False          False         False    False\n",
       "4  False          False         False          False         False    False"
      ]
     },
     "execution_count": 53,
     "metadata": {},
     "output_type": "execute_result"
    }
   ],
   "source": [
    "#Check for missing values\n",
    "Missing_values = Iris_data.isnull()\n",
    "Missing_values.head()"
   ]
  },
  {
   "cell_type": "code",
   "execution_count": 54,
   "id": "7fe54a4f",
   "metadata": {},
   "outputs": [
    {
     "name": "stdout",
     "output_type": "stream",
     "text": [
      "The total number of missing values in the dataset is 0, missing values.\n"
     ]
    }
   ],
   "source": [
    "Missing_values = Iris_data.isnull().sum().sum() #  check the total number of missing values in the dataset, result is 0 mising values\n",
    "print(f'The total number of missing values in the dataset is {Missing_values}, missing values.')"
   ]
  },
  {
   "cell_type": "code",
   "execution_count": 55,
   "id": "28f7a4f5",
   "metadata": {},
   "outputs": [
    {
     "data": {
      "text/plain": [
       "0      False\n",
       "1      False\n",
       "2      False\n",
       "3      False\n",
       "4      False\n",
       "       ...  \n",
       "145    False\n",
       "146    False\n",
       "147    False\n",
       "148    False\n",
       "149    False\n",
       "Length: 150, dtype: bool"
      ]
     },
     "execution_count": 55,
     "metadata": {},
     "output_type": "execute_result"
    }
   ],
   "source": [
    "#Check for duplicate values\n",
    "Iris_data.duplicated()"
   ]
  },
  {
   "cell_type": "markdown",
   "id": "4c104992",
   "metadata": {},
   "source": [
    "# Learnt a new visualization technique from the Seaborn Lib using FacetGrid\n",
    "FACETGRID FEATURE:FacetGrid class is a multi-plot grid for plotting conditional relationships.it helps in visualizing distribution of one variable as well as the relationship between multiple variables separately within subsets of your dataset using multiple panels (i.e Allows drawing multiple instances of the same plot(Target varible) on different subsets of your dataset at the same time)."
   ]
  },
  {
   "cell_type": "code",
   "execution_count": 56,
   "id": "f99ec404",
   "metadata": {},
   "outputs": [
    {
     "data": {
      "text/plain": [
       "Iris-setosa        50\n",
       "Iris-versicolor    50\n",
       "Iris-virginica     50\n",
       "Name: Species, dtype: int64"
      ]
     },
     "execution_count": 56,
     "metadata": {},
     "output_type": "execute_result"
    }
   ],
   "source": [
    "Iris_data['Species'].value_counts()"
   ]
  },
  {
   "cell_type": "code",
   "execution_count": 93,
   "id": "2a990039",
   "metadata": {},
   "outputs": [
    {
     "data": {
      "image/png": "[encoded data removed]",
      "text/plain": [
       "<Figure size 943x800 with 1 Axes>"
      ]
     },
     "metadata": {},
     "output_type": "display_data"
    }
   ],
   "source": [
    "ax= sns.FacetGrid(Iris_data,hue='Species',height=8).map(plt.scatter,'PetalLengthCm','SepalWidthCm').add_legend()"
   ]
  },
  {
   "cell_type": "markdown",
   "id": "242d4218",
   "metadata": {},
   "source": [
    "# Separate the data into features (sepal/petal length/width) and target variable (flower species).\n",
    "\n",
    "Separating data into features and target variables is a crucial step in the data preprocessing phase of machine learning.\n",
    "\n",
    "Features (Input Variables): These are the independent variables or predictors used to predict the target variable. They are usually represented by \n",
    "𝑋\n",
    "X.\n",
    "\n",
    "Target Variable (Output Variable): This is the dependent variable or the outcome you are trying to predict. It is usually represented by \n",
    "𝑦\n",
    "y.\n",
    "\n",
    "AIM: By separating the data into features and target variables, you can easily integrate \n",
    "𝑋,X and 𝑦,y to train the machine learning model.\n",
    "\n",
    "Steps: \n",
    "Using the DataFrame indexing to separate the features and target. \n",
    "\n",
    "- Identify the Features and Target: Determine which columns are features and which one is the target. (Domainknowledge)\n",
    "\n",
    "- Extract Features and Target: Extract the features into a separate variable \n",
    "𝑋\n",
    "X and the target into another variable \n",
    "𝑦\n",
    "y."
   ]
  },
  {
   "cell_type": "code",
   "execution_count": 58,
   "id": "bebd409b",
   "metadata": {},
   "outputs": [
    {
     "name": "stdout",
     "output_type": "stream",
     "text": [
      "      Id  SepalLengthCm  SepalWidthCm  PetalLengthCm  PetalWidthCm\n",
      "0      1            5.1           3.5            1.4           0.2\n",
      "1      2            4.9           3.0            1.4           0.2\n",
      "2      3            4.7           3.2            1.3           0.2\n",
      "3      4            4.6           3.1            1.5           0.2\n",
      "4      5            5.0           3.6            1.4           0.2\n",
      "..   ...            ...           ...            ...           ...\n",
      "145  146            6.7           3.0            5.2           2.3\n",
      "146  147            6.3           2.5            5.0           1.9\n",
      "147  148            6.5           3.0            5.2           2.0\n",
      "148  149            6.2           3.4            5.4           2.3\n",
      "149  150            5.9           3.0            5.1           1.8\n",
      "\n",
      "[150 rows x 5 columns] 0         Iris-setosa\n",
      "1         Iris-setosa\n",
      "2         Iris-setosa\n",
      "3         Iris-setosa\n",
      "4         Iris-setosa\n",
      "            ...      \n",
      "145    Iris-virginica\n",
      "146    Iris-virginica\n",
      "147    Iris-virginica\n",
      "148    Iris-virginica\n",
      "149    Iris-virginica\n",
      "Name: Species, Length: 150, dtype: object\n"
     ]
    }
   ],
   "source": [
    "#Separate features (X) and target (y)\n",
    "X = Iris_data[['Id', 'SepalLengthCm', 'SepalWidthCm', 'PetalLengthCm', 'PetalWidthCm',]]\n",
    "Y = Iris_data['Species']\n",
    "print(X,Y)"
   ]
  },
  {
   "cell_type": "markdown",
   "id": "8ca6fc5f",
   "metadata": {},
   "source": [
    "# Normalization/Standaradization\n",
    "\n",
    "There are a couple of standardization technique suitable for every usecase.\n",
    "\n",
    "- Min-Max Scaling: Scales the data to a fixed range, typically [0,1] or [-1,1]. used t0 ensure that all features are on the same scale without distorting differences in the range of values. e.g when a feature ranges from 10- 100, min-max scaling will transform it to range from 0-1.\n",
    "\n",
    "Also used to ensure that each feature contributes equally to the distance calculations in algorithms like k-Nearest Neighbors (k-NN) and to improve the convergence of gradient-based optimization algorithms.\n",
    "\n",
    "\n",
    "- Z-score normalization: centers the data around the mean with a unit standard deviation. useful when the data follows a normal distribution.Also used in algorithms that assume the data is centered around zero (e.g PCA,Linear Reg).\n",
    "e.g if a feature has a mean of 50 and a standard deviation of 10, standaraization will transform the value of 60 to 1.(i.e (60-50)/10 = 1)"
   ]
  },
  {
   "cell_type": "markdown",
   "id": "bae7425c",
   "metadata": {},
   "source": [
    "# Min-Max Scaling"
   ]
  },
  {
   "cell_type": "code",
   "execution_count": 59,
   "id": "8a3ddc86",
   "metadata": {},
   "outputs": [],
   "source": [
    "#importing the MinMaxScaler from the Sklearn processinglibrary to perform the normalization process.\n",
    "from sklearn.preprocessing import MinMaxScaler"
   ]
  },
  {
   "cell_type": "code",
   "execution_count": 60,
   "id": "a5c61724",
   "metadata": {},
   "outputs": [
    {
     "name": "stdout",
     "output_type": "stream",
     "text": [
      "Min-Max Scaled Data:\n",
      " [[0.         0.22222222 0.625      0.06779661 0.04166667]\n",
      " [0.00671141 0.16666667 0.41666667 0.06779661 0.04166667]\n",
      " [0.01342282 0.11111111 0.5        0.05084746 0.04166667]\n",
      " [0.02013423 0.08333333 0.45833333 0.08474576 0.04166667]\n",
      " [0.02684564 0.19444444 0.66666667 0.06779661 0.04166667]\n",
      " [0.03355705 0.30555556 0.79166667 0.11864407 0.125     ]\n",
      " [0.04026846 0.08333333 0.58333333 0.06779661 0.08333333]\n",
      " [0.04697987 0.19444444 0.58333333 0.08474576 0.04166667]\n",
      " [0.05369128 0.02777778 0.375      0.06779661 0.04166667]\n",
      " [0.06040268 0.16666667 0.45833333 0.08474576 0.        ]\n",
      " [0.06711409 0.30555556 0.70833333 0.08474576 0.04166667]\n",
      " [0.0738255  0.13888889 0.58333333 0.10169492 0.04166667]\n",
      " [0.08053691 0.13888889 0.41666667 0.06779661 0.        ]\n",
      " [0.08724832 0.         0.41666667 0.01694915 0.        ]\n",
      " [0.09395973 0.41666667 0.83333333 0.03389831 0.04166667]\n",
      " [0.10067114 0.38888889 1.         0.08474576 0.125     ]\n",
      " [0.10738255 0.30555556 0.79166667 0.05084746 0.125     ]\n",
      " [0.11409396 0.22222222 0.625      0.06779661 0.08333333]\n",
      " [0.12080537 0.38888889 0.75       0.11864407 0.08333333]\n",
      " [0.12751678 0.22222222 0.75       0.08474576 0.08333333]\n",
      " [0.13422819 0.30555556 0.58333333 0.11864407 0.04166667]\n",
      " [0.1409396  0.22222222 0.70833333 0.08474576 0.125     ]\n",
      " [0.14765101 0.08333333 0.66666667 0.         0.04166667]\n",
      " [0.15436242 0.22222222 0.54166667 0.11864407 0.16666667]\n",
      " [0.16107383 0.13888889 0.58333333 0.15254237 0.04166667]\n",
      " [0.16778523 0.19444444 0.41666667 0.10169492 0.04166667]\n",
      " [0.17449664 0.19444444 0.58333333 0.10169492 0.125     ]\n",
      " [0.18120805 0.25       0.625      0.08474576 0.04166667]\n",
      " [0.18791946 0.25       0.58333333 0.06779661 0.04166667]\n",
      " [0.19463087 0.11111111 0.5        0.10169492 0.04166667]\n",
      " [0.20134228 0.13888889 0.45833333 0.10169492 0.04166667]\n",
      " [0.20805369 0.30555556 0.58333333 0.08474576 0.125     ]\n",
      " [0.2147651  0.25       0.875      0.08474576 0.        ]\n",
      " [0.22147651 0.33333333 0.91666667 0.06779661 0.04166667]\n",
      " [0.22818792 0.16666667 0.45833333 0.08474576 0.        ]\n",
      " [0.23489933 0.19444444 0.5        0.03389831 0.04166667]\n",
      " [0.24161074 0.33333333 0.625      0.05084746 0.04166667]\n",
      " [0.24832215 0.16666667 0.45833333 0.08474576 0.        ]\n",
      " [0.25503356 0.02777778 0.41666667 0.05084746 0.04166667]\n",
      " [0.26174497 0.22222222 0.58333333 0.08474576 0.04166667]\n",
      " [0.26845638 0.19444444 0.625      0.05084746 0.08333333]\n",
      " [0.27516779 0.05555556 0.125      0.05084746 0.08333333]\n",
      " [0.28187919 0.02777778 0.5        0.05084746 0.04166667]\n",
      " [0.2885906  0.19444444 0.625      0.10169492 0.20833333]\n",
      " [0.29530201 0.22222222 0.75       0.15254237 0.125     ]\n",
      " [0.30201342 0.13888889 0.41666667 0.06779661 0.08333333]\n",
      " [0.30872483 0.22222222 0.75       0.10169492 0.04166667]\n",
      " [0.31543624 0.08333333 0.5        0.06779661 0.04166667]\n",
      " [0.32214765 0.27777778 0.70833333 0.08474576 0.04166667]\n",
      " [0.32885906 0.19444444 0.54166667 0.06779661 0.04166667]\n",
      " [0.33557047 0.75       0.5        0.62711864 0.54166667]\n",
      " [0.34228188 0.58333333 0.5        0.59322034 0.58333333]\n",
      " [0.34899329 0.72222222 0.45833333 0.66101695 0.58333333]\n",
      " [0.3557047  0.33333333 0.125      0.50847458 0.5       ]\n",
      " [0.36241611 0.61111111 0.33333333 0.61016949 0.58333333]\n",
      " [0.36912752 0.38888889 0.33333333 0.59322034 0.5       ]\n",
      " [0.37583893 0.55555556 0.54166667 0.62711864 0.625     ]\n",
      " [0.38255034 0.16666667 0.16666667 0.38983051 0.375     ]\n",
      " [0.38926174 0.63888889 0.375      0.61016949 0.5       ]\n",
      " [0.39597315 0.25       0.29166667 0.49152542 0.54166667]\n",
      " [0.40268456 0.19444444 0.         0.42372881 0.375     ]\n",
      " [0.40939597 0.44444444 0.41666667 0.54237288 0.58333333]\n",
      " [0.41610738 0.47222222 0.08333333 0.50847458 0.375     ]\n",
      " [0.42281879 0.5        0.375      0.62711864 0.54166667]\n",
      " [0.4295302  0.36111111 0.375      0.44067797 0.5       ]\n",
      " [0.43624161 0.66666667 0.45833333 0.57627119 0.54166667]\n",
      " [0.44295302 0.36111111 0.41666667 0.59322034 0.58333333]\n",
      " [0.44966443 0.41666667 0.29166667 0.52542373 0.375     ]\n",
      " [0.45637584 0.52777778 0.08333333 0.59322034 0.58333333]\n",
      " [0.46308725 0.36111111 0.20833333 0.49152542 0.41666667]\n",
      " [0.46979866 0.44444444 0.5        0.6440678  0.70833333]\n",
      " [0.47651007 0.5        0.33333333 0.50847458 0.5       ]\n",
      " [0.48322148 0.55555556 0.20833333 0.66101695 0.58333333]\n",
      " [0.48993289 0.5        0.33333333 0.62711864 0.45833333]\n",
      " [0.4966443  0.58333333 0.375      0.55932203 0.5       ]\n",
      " [0.5033557  0.63888889 0.41666667 0.57627119 0.54166667]\n",
      " [0.51006711 0.69444444 0.33333333 0.6440678  0.54166667]\n",
      " [0.51677852 0.66666667 0.41666667 0.6779661  0.66666667]\n",
      " [0.52348993 0.47222222 0.375      0.59322034 0.58333333]\n",
      " [0.53020134 0.38888889 0.25       0.42372881 0.375     ]\n",
      " [0.53691275 0.33333333 0.16666667 0.47457627 0.41666667]\n",
      " [0.54362416 0.33333333 0.16666667 0.45762712 0.375     ]\n",
      " [0.55033557 0.41666667 0.29166667 0.49152542 0.45833333]\n",
      " [0.55704698 0.47222222 0.29166667 0.69491525 0.625     ]\n",
      " [0.56375839 0.30555556 0.41666667 0.59322034 0.58333333]\n",
      " [0.5704698  0.47222222 0.58333333 0.59322034 0.625     ]\n",
      " [0.57718121 0.66666667 0.45833333 0.62711864 0.58333333]\n",
      " [0.58389262 0.55555556 0.125      0.57627119 0.5       ]\n",
      " [0.59060403 0.36111111 0.41666667 0.52542373 0.5       ]\n",
      " [0.59731544 0.33333333 0.20833333 0.50847458 0.5       ]\n",
      " [0.60402685 0.33333333 0.25       0.57627119 0.45833333]\n",
      " [0.61073826 0.5        0.41666667 0.61016949 0.54166667]\n",
      " [0.61744966 0.41666667 0.25       0.50847458 0.45833333]\n",
      " [0.62416107 0.19444444 0.125      0.38983051 0.375     ]\n",
      " [0.63087248 0.36111111 0.29166667 0.54237288 0.5       ]\n",
      " [0.63758389 0.38888889 0.41666667 0.54237288 0.45833333]\n",
      " [0.6442953  0.38888889 0.375      0.54237288 0.5       ]\n",
      " [0.65100671 0.52777778 0.375      0.55932203 0.5       ]\n",
      " [0.65771812 0.22222222 0.20833333 0.33898305 0.41666667]\n",
      " [0.66442953 0.38888889 0.33333333 0.52542373 0.5       ]\n",
      " [0.67114094 0.55555556 0.54166667 0.84745763 1.        ]\n",
      " [0.67785235 0.41666667 0.29166667 0.69491525 0.75      ]\n",
      " [0.68456376 0.77777778 0.41666667 0.83050847 0.83333333]\n",
      " [0.69127517 0.55555556 0.375      0.77966102 0.70833333]\n",
      " [0.69798658 0.61111111 0.41666667 0.81355932 0.875     ]\n",
      " [0.70469799 0.91666667 0.41666667 0.94915254 0.83333333]\n",
      " [0.7114094  0.16666667 0.20833333 0.59322034 0.66666667]\n",
      " [0.71812081 0.83333333 0.375      0.89830508 0.70833333]\n",
      " [0.72483221 0.66666667 0.20833333 0.81355932 0.70833333]\n",
      " [0.73154362 0.80555556 0.66666667 0.86440678 1.        ]\n",
      " [0.73825503 0.61111111 0.5        0.69491525 0.79166667]\n",
      " [0.74496644 0.58333333 0.29166667 0.72881356 0.75      ]\n",
      " [0.75167785 0.69444444 0.41666667 0.76271186 0.83333333]\n",
      " [0.75838926 0.38888889 0.20833333 0.6779661  0.79166667]\n",
      " [0.76510067 0.41666667 0.33333333 0.69491525 0.95833333]\n",
      " [0.77181208 0.58333333 0.5        0.72881356 0.91666667]\n",
      " [0.77852349 0.61111111 0.41666667 0.76271186 0.70833333]\n",
      " [0.7852349  0.94444444 0.75       0.96610169 0.875     ]\n",
      " [0.79194631 0.94444444 0.25       1.         0.91666667]\n",
      " [0.79865772 0.47222222 0.08333333 0.6779661  0.58333333]\n",
      " [0.80536913 0.72222222 0.5        0.79661017 0.91666667]\n",
      " [0.81208054 0.36111111 0.33333333 0.66101695 0.79166667]\n",
      " [0.81879195 0.94444444 0.33333333 0.96610169 0.79166667]\n",
      " [0.82550336 0.55555556 0.29166667 0.66101695 0.70833333]\n",
      " [0.83221477 0.66666667 0.54166667 0.79661017 0.83333333]\n",
      " [0.83892617 0.80555556 0.5        0.84745763 0.70833333]\n",
      " [0.84563758 0.52777778 0.33333333 0.6440678  0.70833333]\n",
      " [0.85234899 0.5        0.41666667 0.66101695 0.70833333]\n",
      " [0.8590604  0.58333333 0.33333333 0.77966102 0.83333333]\n",
      " [0.86577181 0.80555556 0.41666667 0.81355932 0.625     ]\n",
      " [0.87248322 0.86111111 0.33333333 0.86440678 0.75      ]\n",
      " [0.87919463 1.         0.75       0.91525424 0.79166667]\n",
      " [0.88590604 0.58333333 0.33333333 0.77966102 0.875     ]\n",
      " [0.89261745 0.55555556 0.33333333 0.69491525 0.58333333]\n",
      " [0.89932886 0.5        0.25       0.77966102 0.54166667]\n",
      " [0.90604027 0.94444444 0.41666667 0.86440678 0.91666667]\n",
      " [0.91275168 0.55555556 0.58333333 0.77966102 0.95833333]\n",
      " [0.91946309 0.58333333 0.45833333 0.76271186 0.70833333]\n",
      " [0.9261745  0.47222222 0.41666667 0.6440678  0.70833333]\n",
      " [0.93288591 0.72222222 0.45833333 0.74576271 0.83333333]\n",
      " [0.93959732 0.66666667 0.45833333 0.77966102 0.95833333]\n",
      " [0.94630872 0.72222222 0.45833333 0.69491525 0.91666667]\n",
      " [0.95302013 0.41666667 0.29166667 0.69491525 0.75      ]\n",
      " [0.95973154 0.69444444 0.5        0.83050847 0.91666667]\n",
      " [0.96644295 0.66666667 0.54166667 0.79661017 1.        ]\n",
      " [0.97315436 0.66666667 0.41666667 0.71186441 0.91666667]\n",
      " [0.97986577 0.55555556 0.20833333 0.6779661  0.75      ]\n",
      " [0.98657718 0.61111111 0.41666667 0.71186441 0.79166667]\n",
      " [0.99328859 0.52777778 0.58333333 0.74576271 0.91666667]\n",
      " [1.         0.44444444 0.41666667 0.69491525 0.70833333]]\n"
     ]
    }
   ],
   "source": [
    "# Min-Max Scaling\n",
    "min_max_scaler = MinMaxScaler()# Initialize the Min-Max Scaler\n",
    "data_min_max_scaled = min_max_scaler.fit_transform(X)# Fit the scaler to the data and transform it, for the X features to be within the range of [0,1]\n",
    "print(\"Min-Max Scaled Data:\\n\", data_min_max_scaled)\n"
   ]
  },
  {
   "cell_type": "code",
   "execution_count": 61,
   "id": "ed67ba0c",
   "metadata": {},
   "outputs": [
    {
     "data": {
      "text/plain": [
       "1"
      ]
     },
     "execution_count": 61,
     "metadata": {},
     "output_type": "execute_result"
    }
   ],
   "source": [
    "Y.ndim #Before Preprocessing, always check your array dimension to avoid errors"
   ]
  },
  {
   "cell_type": "markdown",
   "id": "54e905f2",
   "metadata": {},
   "source": [
    "# Preprocessing -OneHotEncoder for the Target variable(string values)\n",
    "\n",
    "OneHotEncoder: it's a common practice to encode these string values(categorical target variables) into numerical values that machine learning algorithms can work with(i.e Encoding String values to binary values). \n",
    "\n",
    "#Why One-Hot Encode? \n",
    "Because:\n",
    "\n",
    "- It converts categorical data into a format that can be provided to machine learning algorithms to improve predictions.\n",
    "- It avoids the issue of ordinal relationships being inferred from numerical labels."
   ]
  },
  {
   "cell_type": "code",
   "execution_count": 62,
   "id": "1d76293c",
   "metadata": {},
   "outputs": [],
   "source": [
    "from  sklearn import preprocessing\n",
    "from sklearn.preprocessing import OneHotEncoder"
   ]
  },
  {
   "cell_type": "code",
   "execution_count": 63,
   "id": "d8946e9a",
   "metadata": {},
   "outputs": [
    {
     "data": {
      "text/plain": [
       "array([['Iris-setosa'],\n",
       "       ['Iris-setosa'],\n",
       "       ['Iris-setosa'],\n",
       "       ['Iris-setosa'],\n",
       "       ['Iris-setosa'],\n",
       "       ['Iris-setosa'],\n",
       "       ['Iris-setosa'],\n",
       "       ['Iris-setosa'],\n",
       "       ['Iris-setosa'],\n",
       "       ['Iris-setosa'],\n",
       "       ['Iris-setosa'],\n",
       "       ['Iris-setosa'],\n",
       "       ['Iris-setosa'],\n",
       "       ['Iris-setosa'],\n",
       "       ['Iris-setosa'],\n",
       "       ['Iris-setosa'],\n",
       "       ['Iris-setosa'],\n",
       "       ['Iris-setosa'],\n",
       "       ['Iris-setosa'],\n",
       "       ['Iris-setosa'],\n",
       "       ['Iris-setosa'],\n",
       "       ['Iris-setosa'],\n",
       "       ['Iris-setosa'],\n",
       "       ['Iris-setosa'],\n",
       "       ['Iris-setosa'],\n",
       "       ['Iris-setosa'],\n",
       "       ['Iris-setosa'],\n",
       "       ['Iris-setosa'],\n",
       "       ['Iris-setosa'],\n",
       "       ['Iris-setosa'],\n",
       "       ['Iris-setosa'],\n",
       "       ['Iris-setosa'],\n",
       "       ['Iris-setosa'],\n",
       "       ['Iris-setosa'],\n",
       "       ['Iris-setosa'],\n",
       "       ['Iris-setosa'],\n",
       "       ['Iris-setosa'],\n",
       "       ['Iris-setosa'],\n",
       "       ['Iris-setosa'],\n",
       "       ['Iris-setosa'],\n",
       "       ['Iris-setosa'],\n",
       "       ['Iris-setosa'],\n",
       "       ['Iris-setosa'],\n",
       "       ['Iris-setosa'],\n",
       "       ['Iris-setosa'],\n",
       "       ['Iris-setosa'],\n",
       "       ['Iris-setosa'],\n",
       "       ['Iris-setosa'],\n",
       "       ['Iris-setosa'],\n",
       "       ['Iris-setosa'],\n",
       "       ['Iris-versicolor'],\n",
       "       ['Iris-versicolor'],\n",
       "       ['Iris-versicolor'],\n",
       "       ['Iris-versicolor'],\n",
       "       ['Iris-versicolor'],\n",
       "       ['Iris-versicolor'],\n",
       "       ['Iris-versicolor'],\n",
       "       ['Iris-versicolor'],\n",
       "       ['Iris-versicolor'],\n",
       "       ['Iris-versicolor'],\n",
       "       ['Iris-versicolor'],\n",
       "       ['Iris-versicolor'],\n",
       "       ['Iris-versicolor'],\n",
       "       ['Iris-versicolor'],\n",
       "       ['Iris-versicolor'],\n",
       "       ['Iris-versicolor'],\n",
       "       ['Iris-versicolor'],\n",
       "       ['Iris-versicolor'],\n",
       "       ['Iris-versicolor'],\n",
       "       ['Iris-versicolor'],\n",
       "       ['Iris-versicolor'],\n",
       "       ['Iris-versicolor'],\n",
       "       ['Iris-versicolor'],\n",
       "       ['Iris-versicolor'],\n",
       "       ['Iris-versicolor'],\n",
       "       ['Iris-versicolor'],\n",
       "       ['Iris-versicolor'],\n",
       "       ['Iris-versicolor'],\n",
       "       ['Iris-versicolor'],\n",
       "       ['Iris-versicolor'],\n",
       "       ['Iris-versicolor'],\n",
       "       ['Iris-versicolor'],\n",
       "       ['Iris-versicolor'],\n",
       "       ['Iris-versicolor'],\n",
       "       ['Iris-versicolor'],\n",
       "       ['Iris-versicolor'],\n",
       "       ['Iris-versicolor'],\n",
       "       ['Iris-versicolor'],\n",
       "       ['Iris-versicolor'],\n",
       "       ['Iris-versicolor'],\n",
       "       ['Iris-versicolor'],\n",
       "       ['Iris-versicolor'],\n",
       "       ['Iris-versicolor'],\n",
       "       ['Iris-versicolor'],\n",
       "       ['Iris-versicolor'],\n",
       "       ['Iris-versicolor'],\n",
       "       ['Iris-versicolor'],\n",
       "       ['Iris-versicolor'],\n",
       "       ['Iris-versicolor'],\n",
       "       ['Iris-versicolor'],\n",
       "       ['Iris-virginica'],\n",
       "       ['Iris-virginica'],\n",
       "       ['Iris-virginica'],\n",
       "       ['Iris-virginica'],\n",
       "       ['Iris-virginica'],\n",
       "       ['Iris-virginica'],\n",
       "       ['Iris-virginica'],\n",
       "       ['Iris-virginica'],\n",
       "       ['Iris-virginica'],\n",
       "       ['Iris-virginica'],\n",
       "       ['Iris-virginica'],\n",
       "       ['Iris-virginica'],\n",
       "       ['Iris-virginica'],\n",
       "       ['Iris-virginica'],\n",
       "       ['Iris-virginica'],\n",
       "       ['Iris-virginica'],\n",
       "       ['Iris-virginica'],\n",
       "       ['Iris-virginica'],\n",
       "       ['Iris-virginica'],\n",
       "       ['Iris-virginica'],\n",
       "       ['Iris-virginica'],\n",
       "       ['Iris-virginica'],\n",
       "       ['Iris-virginica'],\n",
       "       ['Iris-virginica'],\n",
       "       ['Iris-virginica'],\n",
       "       ['Iris-virginica'],\n",
       "       ['Iris-virginica'],\n",
       "       ['Iris-virginica'],\n",
       "       ['Iris-virginica'],\n",
       "       ['Iris-virginica'],\n",
       "       ['Iris-virginica'],\n",
       "       ['Iris-virginica'],\n",
       "       ['Iris-virginica'],\n",
       "       ['Iris-virginica'],\n",
       "       ['Iris-virginica'],\n",
       "       ['Iris-virginica'],\n",
       "       ['Iris-virginica'],\n",
       "       ['Iris-virginica'],\n",
       "       ['Iris-virginica'],\n",
       "       ['Iris-virginica'],\n",
       "       ['Iris-virginica'],\n",
       "       ['Iris-virginica'],\n",
       "       ['Iris-virginica'],\n",
       "       ['Iris-virginica'],\n",
       "       ['Iris-virginica'],\n",
       "       ['Iris-virginica'],\n",
       "       ['Iris-virginica'],\n",
       "       ['Iris-virginica'],\n",
       "       ['Iris-virginica'],\n",
       "       ['Iris-virginica']], dtype=object)"
      ]
     },
     "execution_count": 63,
     "metadata": {},
     "output_type": "execute_result"
    }
   ],
   "source": [
    "Y= Iris_data['Species'].values.reshape(-1,1)# Reshape to 2D array\n",
    "Y"
   ]
  },
  {
   "cell_type": "code",
   "execution_count": 64,
   "id": "06d369a5",
   "metadata": {},
   "outputs": [],
   "source": [
    "# Creating an instance of the OneHotEncoder\n",
    "encoder = OneHotEncoder(sparse=False)"
   ]
  },
  {
   "cell_type": "code",
   "execution_count": 65,
   "id": "233e9af0",
   "metadata": {},
   "outputs": [
    {
     "name": "stdout",
     "output_type": "stream",
     "text": [
      "[[1. 0. 0.]\n",
      " [1. 0. 0.]\n",
      " [1. 0. 0.]\n",
      " [1. 0. 0.]\n",
      " [1. 0. 0.]\n",
      " [1. 0. 0.]\n",
      " [1. 0. 0.]\n",
      " [1. 0. 0.]\n",
      " [1. 0. 0.]\n",
      " [1. 0. 0.]\n",
      " [1. 0. 0.]\n",
      " [1. 0. 0.]\n",
      " [1. 0. 0.]\n",
      " [1. 0. 0.]\n",
      " [1. 0. 0.]\n",
      " [1. 0. 0.]\n",
      " [1. 0. 0.]\n",
      " [1. 0. 0.]\n",
      " [1. 0. 0.]\n",
      " [1. 0. 0.]\n",
      " [1. 0. 0.]\n",
      " [1. 0. 0.]\n",
      " [1. 0. 0.]\n",
      " [1. 0. 0.]\n",
      " [1. 0. 0.]\n",
      " [1. 0. 0.]\n",
      " [1. 0. 0.]\n",
      " [1. 0. 0.]\n",
      " [1. 0. 0.]\n",
      " [1. 0. 0.]\n",
      " [1. 0. 0.]\n",
      " [1. 0. 0.]\n",
      " [1. 0. 0.]\n",
      " [1. 0. 0.]\n",
      " [1. 0. 0.]\n",
      " [1. 0. 0.]\n",
      " [1. 0. 0.]\n",
      " [1. 0. 0.]\n",
      " [1. 0. 0.]\n",
      " [1. 0. 0.]\n",
      " [1. 0. 0.]\n",
      " [1. 0. 0.]\n",
      " [1. 0. 0.]\n",
      " [1. 0. 0.]\n",
      " [1. 0. 0.]\n",
      " [1. 0. 0.]\n",
      " [1. 0. 0.]\n",
      " [1. 0. 0.]\n",
      " [1. 0. 0.]\n",
      " [1. 0. 0.]\n",
      " [0. 1. 0.]\n",
      " [0. 1. 0.]\n",
      " [0. 1. 0.]\n",
      " [0. 1. 0.]\n",
      " [0. 1. 0.]\n",
      " [0. 1. 0.]\n",
      " [0. 1. 0.]\n",
      " [0. 1. 0.]\n",
      " [0. 1. 0.]\n",
      " [0. 1. 0.]\n",
      " [0. 1. 0.]\n",
      " [0. 1. 0.]\n",
      " [0. 1. 0.]\n",
      " [0. 1. 0.]\n",
      " [0. 1. 0.]\n",
      " [0. 1. 0.]\n",
      " [0. 1. 0.]\n",
      " [0. 1. 0.]\n",
      " [0. 1. 0.]\n",
      " [0. 1. 0.]\n",
      " [0. 1. 0.]\n",
      " [0. 1. 0.]\n",
      " [0. 1. 0.]\n",
      " [0. 1. 0.]\n",
      " [0. 1. 0.]\n",
      " [0. 1. 0.]\n",
      " [0. 1. 0.]\n",
      " [0. 1. 0.]\n",
      " [0. 1. 0.]\n",
      " [0. 1. 0.]\n",
      " [0. 1. 0.]\n",
      " [0. 1. 0.]\n",
      " [0. 1. 0.]\n",
      " [0. 1. 0.]\n",
      " [0. 1. 0.]\n",
      " [0. 1. 0.]\n",
      " [0. 1. 0.]\n",
      " [0. 1. 0.]\n",
      " [0. 1. 0.]\n",
      " [0. 1. 0.]\n",
      " [0. 1. 0.]\n",
      " [0. 1. 0.]\n",
      " [0. 1. 0.]\n",
      " [0. 1. 0.]\n",
      " [0. 1. 0.]\n",
      " [0. 1. 0.]\n",
      " [0. 1. 0.]\n",
      " [0. 1. 0.]\n",
      " [0. 1. 0.]\n",
      " [0. 1. 0.]\n",
      " [0. 0. 1.]\n",
      " [0. 0. 1.]\n",
      " [0. 0. 1.]\n",
      " [0. 0. 1.]\n",
      " [0. 0. 1.]\n",
      " [0. 0. 1.]\n",
      " [0. 0. 1.]\n",
      " [0. 0. 1.]\n",
      " [0. 0. 1.]\n",
      " [0. 0. 1.]\n",
      " [0. 0. 1.]\n",
      " [0. 0. 1.]\n",
      " [0. 0. 1.]\n",
      " [0. 0. 1.]\n",
      " [0. 0. 1.]\n",
      " [0. 0. 1.]\n",
      " [0. 0. 1.]\n",
      " [0. 0. 1.]\n",
      " [0. 0. 1.]\n",
      " [0. 0. 1.]\n",
      " [0. 0. 1.]\n",
      " [0. 0. 1.]\n",
      " [0. 0. 1.]\n",
      " [0. 0. 1.]\n",
      " [0. 0. 1.]\n",
      " [0. 0. 1.]\n",
      " [0. 0. 1.]\n",
      " [0. 0. 1.]\n",
      " [0. 0. 1.]\n",
      " [0. 0. 1.]\n",
      " [0. 0. 1.]\n",
      " [0. 0. 1.]\n",
      " [0. 0. 1.]\n",
      " [0. 0. 1.]\n",
      " [0. 0. 1.]\n",
      " [0. 0. 1.]\n",
      " [0. 0. 1.]\n",
      " [0. 0. 1.]\n",
      " [0. 0. 1.]\n",
      " [0. 0. 1.]\n",
      " [0. 0. 1.]\n",
      " [0. 0. 1.]\n",
      " [0. 0. 1.]\n",
      " [0. 0. 1.]\n",
      " [0. 0. 1.]\n",
      " [0. 0. 1.]\n",
      " [0. 0. 1.]\n",
      " [0. 0. 1.]\n",
      " [0. 0. 1.]\n",
      " [0. 0. 1.]]\n"
     ]
    }
   ],
   "source": [
    "#Preprocessing: converting the categorical data into a format that is understood by machine learning algorithms to improve predictions\n",
    "Y_test= encoder.fit_transform(Y) # Fit and transform the target variable\n",
    "\n",
    "print(Y_test[:150])"
   ]
  },
  {
   "cell_type": "markdown",
   "id": "429f38f2",
   "metadata": {},
   "source": [
    "# Model Building -Logistic Regression \n",
    "Logistic Regression: is a supervised machine learning algorithm widely used for binary classification tasks such as identifying whether an email is spam or not, diagnosing diseases by assessing the presence or absence of specific conditions based on patient test results.\n",
    "\n",
    "In Logistic regression, instead of fitting a regression line, we fit an “S” shaped logistic function, which predicts two maximum values (0 or 1).\n",
    "\n",
    "- The S-form curve is called the Sigmoid function or the logistic function.\n",
    "- In logistic regression, we use the concept of the threshold value (0.5), which defines the probability of either 0 or 1. Such as values above the threshold value tends to 1, and a value below the threshold values tends to 0."
   ]
  },
  {
   "cell_type": "code",
   "execution_count": 66,
   "id": "da576e6d",
   "metadata": {},
   "outputs": [],
   "source": [
    "from sklearn.linear_model import LogisticRegression\n",
    "from sklearn.model_selection import train_test_split\n",
    "from sklearn.metrics import accuracy_score\n",
    "import sklearn.metrics as metrics"
   ]
  },
  {
   "cell_type": "markdown",
   "id": "644a8f90",
   "metadata": {},
   "source": [
    "# Train/Test dataset\n",
    "Splitting my dataset into train and test set"
   ]
  },
  {
   "cell_type": "code",
   "execution_count": 67,
   "id": "f736b7cf",
   "metadata": {},
   "outputs": [
    {
     "name": "stdout",
     "output_type": "stream",
     "text": [
      "Train set: (90, 5) (90, 1)\n",
      "Test set: (60, 5) (60, 1)\n"
     ]
    }
   ],
   "source": [
    "# splitting X and Y into training and testing sets\n",
    "X_train, X_test,Y_train, Y_test = train_test_split(X, Y,  test_size=0.4,random_state=1)\n",
    "print('Train set:',X_train.shape,Y_train.shape)\n",
    "print('Test set:',X_test.shape,Y_test.shape)"
   ]
  },
  {
   "cell_type": "code",
   "execution_count": 68,
   "id": "7f422f99",
   "metadata": {},
   "outputs": [
    {
     "data": {
      "text/html": [
       "<style>#sk-container-id-2 {color: black;background-color: white;}#sk-container-id-2 pre{padding: 0;}#sk-container-id-2 div.sk-toggleable {background-color: white;}#sk-container-id-2 label.sk-toggleable__label {cursor: pointer;display: block;width: 100%;margin-bottom: 0;padding: 0.3em;box-sizing: border-box;text-align: center;}#sk-container-id-2 label.sk-toggleable__label-arrow:before {content: \"▸\";float: left;margin-right: 0.25em;color: #696969;}#sk-container-id-2 label.sk-toggleable__label-arrow:hover:before {color: black;}#sk-container-id-2 div.sk-estimator:hover label.sk-toggleable__label-arrow:before {color: black;}#sk-container-id-2 div.sk-toggleable__content {max-height: 0;max-width: 0;overflow: hidden;text-align: left;background-color: #f0f8ff;}#sk-container-id-2 div.sk-toggleable__content pre {margin: 0.2em;color: black;border-radius: 0.25em;background-color: #f0f8ff;}#sk-container-id-2 input.sk-toggleable__control:checked~div.sk-toggleable__content {max-height: 200px;max-width: 100%;overflow: auto;}#sk-container-id-2 input.sk-toggleable__control:checked~label.sk-toggleable__label-arrow:before {content: \"▾\";}#sk-container-id-2 div.sk-estimator input.sk-toggleable__control:checked~label.sk-toggleable__label {background-color: #d4ebff;}#sk-container-id-2 div.sk-label input.sk-toggleable__control:checked~label.sk-toggleable__label {background-color: #d4ebff;}#sk-container-id-2 input.sk-hidden--visually {border: 0;clip: rect(1px 1px 1px 1px);clip: rect(1px, 1px, 1px, 1px);height: 1px;margin: -1px;overflow: hidden;padding: 0;position: absolute;width: 1px;}#sk-container-id-2 div.sk-estimator {font-family: monospace;background-color: #f0f8ff;border: 1px dotted black;border-radius: 0.25em;box-sizing: border-box;margin-bottom: 0.5em;}#sk-container-id-2 div.sk-estimator:hover {background-color: #d4ebff;}#sk-container-id-2 div.sk-parallel-item::after {content: \"\";width: 100%;border-bottom: 1px solid gray;flex-grow: 1;}#sk-container-id-2 div.sk-label:hover label.sk-toggleable__label {background-color: #d4ebff;}#sk-container-id-2 div.sk-serial::before {content: \"\";position: absolute;border-left: 1px solid gray;box-sizing: border-box;top: 0;bottom: 0;left: 50%;z-index: 0;}#sk-container-id-2 div.sk-serial {display: flex;flex-direction: column;align-items: center;background-color: white;padding-right: 0.2em;padding-left: 0.2em;position: relative;}#sk-container-id-2 div.sk-item {position: relative;z-index: 1;}#sk-container-id-2 div.sk-parallel {display: flex;align-items: stretch;justify-content: center;background-color: white;position: relative;}#sk-container-id-2 div.sk-item::before, #sk-container-id-2 div.sk-parallel-item::before {content: \"\";position: absolute;border-left: 1px solid gray;box-sizing: border-box;top: 0;bottom: 0;left: 50%;z-index: -1;}#sk-container-id-2 div.sk-parallel-item {display: flex;flex-direction: column;z-index: 1;position: relative;background-color: white;}#sk-container-id-2 div.sk-parallel-item:first-child::after {align-self: flex-end;width: 50%;}#sk-container-id-2 div.sk-parallel-item:last-child::after {align-self: flex-start;width: 50%;}#sk-container-id-2 div.sk-parallel-item:only-child::after {width: 0;}#sk-container-id-2 div.sk-dashed-wrapped {border: 1px dashed gray;margin: 0 0.4em 0.5em 0.4em;box-sizing: border-box;padding-bottom: 0.4em;background-color: white;}#sk-container-id-2 div.sk-label label {font-family: monospace;font-weight: bold;display: inline-block;line-height: 1.2em;}#sk-container-id-2 div.sk-label-container {text-align: center;}#sk-container-id-2 div.sk-container {/* jupyter's `normalize.less` sets `[hidden] { display: none; }` but bootstrap.min.css set `[hidden] { display: none !important; }` so we also need the `!important` here to be able to override the default hidden behavior on the sphinx rendered scikit-learn.org. See: https://github.com/scikit-learn/scikit-learn/issues/21755 */display: inline-block !important;position: relative;}#sk-container-id-2 div.sk-text-repr-fallback {display: none;}</style><div id=\"sk-container-id-2\" class=\"sk-top-container\"><div class=\"sk-text-repr-fallback\"><pre>LogisticRegression(C=0.01, solver=&#x27;sag&#x27;)</pre><b>In a Jupyter environment, please rerun this cell to show the HTML representation or trust the notebook. <br />On GitHub, the HTML representation is unable to render, please try loading this page with nbviewer.org.</b></div><div class=\"sk-container\" hidden><div class=\"sk-item\"><div class=\"sk-estimator sk-toggleable\"><input class=\"sk-toggleable__control sk-hidden--visually\" id=\"sk-estimator-id-2\" type=\"checkbox\" checked><label for=\"sk-estimator-id-2\" class=\"sk-toggleable__label sk-toggleable__label-arrow\">LogisticRegression</label><div class=\"sk-toggleable__content\"><pre>LogisticRegression(C=0.01, solver=&#x27;sag&#x27;)</pre></div></div></div></div></div>"
      ],
      "text/plain": [
       "LogisticRegression(C=0.01, solver='sag')"
      ]
     },
     "execution_count": 68,
     "metadata": {},
     "output_type": "execute_result"
    }
   ],
   "source": [
    "# create logistic regression object, train the model using the training sets\n",
    "LR=LogisticRegression(C=0.01,solver='sag').fit(X_train,Y_train)\n",
    "LR\n"
   ]
  },
  {
   "cell_type": "code",
   "execution_count": 69,
   "id": "b9eb2404",
   "metadata": {},
   "outputs": [
    {
     "data": {
      "text/plain": [
       "array(['Iris-setosa', 'Iris-virginica', 'Iris-versicolor', 'Iris-setosa',\n",
       "       'Iris-virginica', 'Iris-versicolor', 'Iris-virginica',\n",
       "       'Iris-setosa', 'Iris-setosa', 'Iris-virginica', 'Iris-virginica',\n",
       "       'Iris-setosa', 'Iris-virginica', 'Iris-versicolor',\n",
       "       'Iris-versicolor', 'Iris-setosa', 'Iris-virginica',\n",
       "       'Iris-versicolor', 'Iris-setosa', 'Iris-setosa', 'Iris-virginica',\n",
       "       'Iris-virginica', 'Iris-versicolor', 'Iris-setosa',\n",
       "       'Iris-virginica', 'Iris-virginica', 'Iris-setosa', 'Iris-setosa',\n",
       "       'Iris-versicolor', 'Iris-virginica', 'Iris-virginica',\n",
       "       'Iris-virginica', 'Iris-versicolor', 'Iris-virginica',\n",
       "       'Iris-virginica', 'Iris-setosa', 'Iris-versicolor', 'Iris-setosa',\n",
       "       'Iris-versicolor', 'Iris-virginica', 'Iris-virginica',\n",
       "       'Iris-setosa', 'Iris-virginica', 'Iris-virginica',\n",
       "       'Iris-versicolor', 'Iris-virginica', 'Iris-setosa', 'Iris-setosa',\n",
       "       'Iris-versicolor', 'Iris-versicolor', 'Iris-setosa', 'Iris-setosa',\n",
       "       'Iris-virginica', 'Iris-virginica', 'Iris-virginica',\n",
       "       'Iris-virginica', 'Iris-virginica', 'Iris-versicolor',\n",
       "       'Iris-virginica', 'Iris-virginica'], dtype=object)"
      ]
     },
     "execution_count": 69,
     "metadata": {},
     "output_type": "execute_result"
    }
   ],
   "source": [
    "yhat=LR.predict(X_test)\n",
    "yhat"
   ]
  },
  {
   "cell_type": "code",
   "execution_count": 70,
   "id": "b7362d5f",
   "metadata": {},
   "outputs": [
    {
     "data": {
      "text/plain": [
       "array([[0.82918905, 0.14646988, 0.02434106],\n",
       "       [0.02281004, 0.26926283, 0.70792713],\n",
       "       [0.14663186, 0.52188287, 0.33148527],\n",
       "       [0.79225481, 0.1735353 , 0.03420989],\n",
       "       [0.01283651, 0.34493053, 0.64223296],\n",
       "       [0.30328387, 0.51633217, 0.18038397],\n",
       "       [0.00353146, 0.18524242, 0.81122612],\n",
       "       [0.45807562, 0.36383045, 0.17809393],\n",
       "       [0.5773675 , 0.30829598, 0.11433652],\n",
       "       [0.01387408, 0.32694362, 0.6591823 ],\n",
       "       [0.03649754, 0.3638404 , 0.59966206],\n",
       "       [0.85698403, 0.1265413 , 0.01647468],\n",
       "       [0.03986562, 0.46816293, 0.49197144],\n",
       "       [0.36094745, 0.4915445 , 0.14750805],\n",
       "       [0.10309128, 0.49161947, 0.40528925],\n",
       "       [0.39667793, 0.36720537, 0.2361167 ],\n",
       "       [0.04317999, 0.38029789, 0.57652211],\n",
       "       [0.16513552, 0.51468513, 0.32017935],\n",
       "       [0.6159972 , 0.29018661, 0.09381618],\n",
       "       [0.53343341, 0.32433069, 0.1422359 ],\n",
       "       [0.04285224, 0.38925386, 0.5678939 ],\n",
       "       [0.06409643, 0.42962238, 0.5062812 ],\n",
       "       [0.131644  , 0.54224056, 0.32611544],\n",
       "       [0.49012421, 0.34089589, 0.16897989],\n",
       "       [0.01172432, 0.32020527, 0.66807042],\n",
       "       [0.02923508, 0.33523329, 0.63553163],\n",
       "       [0.65947154, 0.25803809, 0.08249037],\n",
       "       [0.74639034, 0.20590861, 0.04770105],\n",
       "       [0.13147768, 0.52067377, 0.34784855],\n",
       "       [0.00159444, 0.1328356 , 0.86556997],\n",
       "       [0.05585699, 0.43056099, 0.51358202],\n",
       "       [0.00705036, 0.28414097, 0.70880866],\n",
       "       [0.13218761, 0.48720474, 0.38060766],\n",
       "       [0.00605074, 0.23901697, 0.75493229],\n",
       "       [0.01134688, 0.27743055, 0.71122256],\n",
       "       [0.42439607, 0.3681811 , 0.20742283],\n",
       "       [0.24012316, 0.51370549, 0.24617135],\n",
       "       [0.64077461, 0.27303943, 0.08618597],\n",
       "       [0.30699909, 0.52231593, 0.17068498],\n",
       "       [0.02140875, 0.38948936, 0.58910189],\n",
       "       [0.0205078 , 0.36570973, 0.61378247],\n",
       "       [0.74896784, 0.20480728, 0.04622488],\n",
       "       [0.00768016, 0.24537374, 0.7469461 ],\n",
       "       [0.02815294, 0.39835932, 0.57348774],\n",
       "       [0.2809733 , 0.52909722, 0.18992949],\n",
       "       [0.01693173, 0.42374375, 0.55932452],\n",
       "       [0.77951639, 0.18630409, 0.03417952],\n",
       "       [0.844196  , 0.1353116 , 0.0204924 ],\n",
       "       [0.37255131, 0.38439544, 0.24305325],\n",
       "       [0.19290218, 0.49732741, 0.30977042],\n",
       "       [0.50044329, 0.34295318, 0.15660352],\n",
       "       [0.57795197, 0.30630895, 0.11573909],\n",
       "       [0.02648453, 0.44292471, 0.53059076],\n",
       "       [0.00406767, 0.20198339, 0.79394894],\n",
       "       [0.03141072, 0.45905365, 0.50953563],\n",
       "       [0.00464818, 0.21673885, 0.77861298],\n",
       "       [0.00643475, 0.2190538 , 0.77451145],\n",
       "       [0.08324596, 0.45997342, 0.45678062],\n",
       "       [0.01459601, 0.39016298, 0.59524101],\n",
       "       [0.03947969, 0.3671044 , 0.59341591]])"
      ]
     },
     "execution_count": 70,
     "metadata": {},
     "output_type": "execute_result"
    }
   ],
   "source": [
    "yhat_prob = LR.predict_proba(X_test)\n",
    "yhat_prob"
   ]
  },
  {
   "cell_type": "code",
   "execution_count": 71,
   "id": "face1bdc",
   "metadata": {},
   "outputs": [],
   "source": [
    "from sklearn.metrics import classification_report"
   ]
  },
  {
   "cell_type": "code",
   "execution_count": 72,
   "id": "c66342e8",
   "metadata": {},
   "outputs": [
    {
     "name": "stdout",
     "output_type": "stream",
     "text": [
      "                 precision    recall  f1-score   support\n",
      "\n",
      "    Iris-setosa       1.00      0.95      0.97        19\n",
      "Iris-versicolor       0.93      0.62      0.74        21\n",
      " Iris-virginica       0.71      1.00      0.83        20\n",
      "\n",
      "       accuracy                           0.85        60\n",
      "      macro avg       0.88      0.86      0.85        60\n",
      "   weighted avg       0.88      0.85      0.85        60\n",
      "\n"
     ]
    }
   ],
   "source": [
    "print(classification_report(Y_test,yhat))"
   ]
  },
  {
   "cell_type": "code",
   "execution_count": 73,
   "id": "579a8196",
   "metadata": {},
   "outputs": [
    {
     "name": "stdout",
     "output_type": "stream",
     "text": [
      "Logistic Regression model accuracy(in %): 85.0\n"
     ]
    }
   ],
   "source": [
    "print(\"Logistic Regression model accuracy(in %):\",\n",
    "      metrics.accuracy_score(Y_test, yhat)*100)"
   ]
  },
  {
   "cell_type": "markdown",
   "id": "3570b541",
   "metadata": {},
   "source": [
    "# Setting up the Decision Tree"
   ]
  },
  {
   "cell_type": "code",
   "execution_count": 108,
   "id": "5e5068c5",
   "metadata": {},
   "outputs": [],
   "source": [
    "from sklearn.tree import DecisionTreeClassifier\n",
    "import sklearn.tree as tree"
   ]
  },
  {
   "cell_type": "code",
   "execution_count": 118,
   "id": "4533deff",
   "metadata": {},
   "outputs": [
    {
     "data": {
      "text/html": [
       "<style>#sk-container-id-8 {color: black;background-color: white;}#sk-container-id-8 pre{padding: 0;}#sk-container-id-8 div.sk-toggleable {background-color: white;}#sk-container-id-8 label.sk-toggleable__label {cursor: pointer;display: block;width: 100%;margin-bottom: 0;padding: 0.3em;box-sizing: border-box;text-align: center;}#sk-container-id-8 label.sk-toggleable__label-arrow:before {content: \"▸\";float: left;margin-right: 0.25em;color: #696969;}#sk-container-id-8 label.sk-toggleable__label-arrow:hover:before {color: black;}#sk-container-id-8 div.sk-estimator:hover label.sk-toggleable__label-arrow:before {color: black;}#sk-container-id-8 div.sk-toggleable__content {max-height: 0;max-width: 0;overflow: hidden;text-align: left;background-color: #f0f8ff;}#sk-container-id-8 div.sk-toggleable__content pre {margin: 0.2em;color: black;border-radius: 0.25em;background-color: #f0f8ff;}#sk-container-id-8 input.sk-toggleable__control:checked~div.sk-toggleable__content {max-height: 200px;max-width: 100%;overflow: auto;}#sk-container-id-8 input.sk-toggleable__control:checked~label.sk-toggleable__label-arrow:before {content: \"▾\";}#sk-container-id-8 div.sk-estimator input.sk-toggleable__control:checked~label.sk-toggleable__label {background-color: #d4ebff;}#sk-container-id-8 div.sk-label input.sk-toggleable__control:checked~label.sk-toggleable__label {background-color: #d4ebff;}#sk-container-id-8 input.sk-hidden--visually {border: 0;clip: rect(1px 1px 1px 1px);clip: rect(1px, 1px, 1px, 1px);height: 1px;margin: -1px;overflow: hidden;padding: 0;position: absolute;width: 1px;}#sk-container-id-8 div.sk-estimator {font-family: monospace;background-color: #f0f8ff;border: 1px dotted black;border-radius: 0.25em;box-sizing: border-box;margin-bottom: 0.5em;}#sk-container-id-8 div.sk-estimator:hover {background-color: #d4ebff;}#sk-container-id-8 div.sk-parallel-item::after {content: \"\";width: 100%;border-bottom: 1px solid gray;flex-grow: 1;}#sk-container-id-8 div.sk-label:hover label.sk-toggleable__label {background-color: #d4ebff;}#sk-container-id-8 div.sk-serial::before {content: \"\";position: absolute;border-left: 1px solid gray;box-sizing: border-box;top: 0;bottom: 0;left: 50%;z-index: 0;}#sk-container-id-8 div.sk-serial {display: flex;flex-direction: column;align-items: center;background-color: white;padding-right: 0.2em;padding-left: 0.2em;position: relative;}#sk-container-id-8 div.sk-item {position: relative;z-index: 1;}#sk-container-id-8 div.sk-parallel {display: flex;align-items: stretch;justify-content: center;background-color: white;position: relative;}#sk-container-id-8 div.sk-item::before, #sk-container-id-8 div.sk-parallel-item::before {content: \"\";position: absolute;border-left: 1px solid gray;box-sizing: border-box;top: 0;bottom: 0;left: 50%;z-index: -1;}#sk-container-id-8 div.sk-parallel-item {display: flex;flex-direction: column;z-index: 1;position: relative;background-color: white;}#sk-container-id-8 div.sk-parallel-item:first-child::after {align-self: flex-end;width: 50%;}#sk-container-id-8 div.sk-parallel-item:last-child::after {align-self: flex-start;width: 50%;}#sk-container-id-8 div.sk-parallel-item:only-child::after {width: 0;}#sk-container-id-8 div.sk-dashed-wrapped {border: 1px dashed gray;margin: 0 0.4em 0.5em 0.4em;box-sizing: border-box;padding-bottom: 0.4em;background-color: white;}#sk-container-id-8 div.sk-label label {font-family: monospace;font-weight: bold;display: inline-block;line-height: 1.2em;}#sk-container-id-8 div.sk-label-container {text-align: center;}#sk-container-id-8 div.sk-container {/* jupyter's `normalize.less` sets `[hidden] { display: none; }` but bootstrap.min.css set `[hidden] { display: none !important; }` so we also need the `!important` here to be able to override the default hidden behavior on the sphinx rendered scikit-learn.org. See: https://github.com/scikit-learn/scikit-learn/issues/21755 */display: inline-block !important;position: relative;}#sk-container-id-8 div.sk-text-repr-fallback {display: none;}</style><div id=\"sk-container-id-8\" class=\"sk-top-container\"><div class=\"sk-text-repr-fallback\"><pre>DecisionTreeClassifier(criterion=&#x27;entropy&#x27;, max_depth=4)</pre><b>In a Jupyter environment, please rerun this cell to show the HTML representation or trust the notebook. <br />On GitHub, the HTML representation is unable to render, please try loading this page with nbviewer.org.</b></div><div class=\"sk-container\" hidden><div class=\"sk-item\"><div class=\"sk-estimator sk-toggleable\"><input class=\"sk-toggleable__control sk-hidden--visually\" id=\"sk-estimator-id-8\" type=\"checkbox\" checked><label for=\"sk-estimator-id-8\" class=\"sk-toggleable__label sk-toggleable__label-arrow\">DecisionTreeClassifier</label><div class=\"sk-toggleable__content\"><pre>DecisionTreeClassifier(criterion=&#x27;entropy&#x27;, max_depth=4)</pre></div></div></div></div></div>"
      ],
      "text/plain": [
       "DecisionTreeClassifier(criterion='entropy', max_depth=4)"
      ]
     },
     "execution_count": 118,
     "metadata": {},
     "output_type": "execute_result"
    }
   ],
   "source": [
    "# Initialize the decision tree classifier\n",
    "Iris_tree= DecisionTreeClassifier(criterion=\"entropy\",max_depth=4)\n",
    "Iris_tree"
   ]
  },
  {
   "cell_type": "code",
   "execution_count": 119,
   "id": "2ff112e5",
   "metadata": {},
   "outputs": [],
   "source": [
    "X_train, X_test, Y_train, Y_test = train_test_split(X, Y, test_size=0.3, random_state=1)"
   ]
  },
  {
   "cell_type": "code",
   "execution_count": 120,
   "id": "078f20ba",
   "metadata": {},
   "outputs": [
    {
     "data": {
      "text/html": [
       "<style>#sk-container-id-9 {color: black;background-color: white;}#sk-container-id-9 pre{padding: 0;}#sk-container-id-9 div.sk-toggleable {background-color: white;}#sk-container-id-9 label.sk-toggleable__label {cursor: pointer;display: block;width: 100%;margin-bottom: 0;padding: 0.3em;box-sizing: border-box;text-align: center;}#sk-container-id-9 label.sk-toggleable__label-arrow:before {content: \"▸\";float: left;margin-right: 0.25em;color: #696969;}#sk-container-id-9 label.sk-toggleable__label-arrow:hover:before {color: black;}#sk-container-id-9 div.sk-estimator:hover label.sk-toggleable__label-arrow:before {color: black;}#sk-container-id-9 div.sk-toggleable__content {max-height: 0;max-width: 0;overflow: hidden;text-align: left;background-color: #f0f8ff;}#sk-container-id-9 div.sk-toggleable__content pre {margin: 0.2em;color: black;border-radius: 0.25em;background-color: #f0f8ff;}#sk-container-id-9 input.sk-toggleable__control:checked~div.sk-toggleable__content {max-height: 200px;max-width: 100%;overflow: auto;}#sk-container-id-9 input.sk-toggleable__control:checked~label.sk-toggleable__label-arrow:before {content: \"▾\";}#sk-container-id-9 div.sk-estimator input.sk-toggleable__control:checked~label.sk-toggleable__label {background-color: #d4ebff;}#sk-container-id-9 div.sk-label input.sk-toggleable__control:checked~label.sk-toggleable__label {background-color: #d4ebff;}#sk-container-id-9 input.sk-hidden--visually {border: 0;clip: rect(1px 1px 1px 1px);clip: rect(1px, 1px, 1px, 1px);height: 1px;margin: -1px;overflow: hidden;padding: 0;position: absolute;width: 1px;}#sk-container-id-9 div.sk-estimator {font-family: monospace;background-color: #f0f8ff;border: 1px dotted black;border-radius: 0.25em;box-sizing: border-box;margin-bottom: 0.5em;}#sk-container-id-9 div.sk-estimator:hover {background-color: #d4ebff;}#sk-container-id-9 div.sk-parallel-item::after {content: \"\";width: 100%;border-bottom: 1px solid gray;flex-grow: 1;}#sk-container-id-9 div.sk-label:hover label.sk-toggleable__label {background-color: #d4ebff;}#sk-container-id-9 div.sk-serial::before {content: \"\";position: absolute;border-left: 1px solid gray;box-sizing: border-box;top: 0;bottom: 0;left: 50%;z-index: 0;}#sk-container-id-9 div.sk-serial {display: flex;flex-direction: column;align-items: center;background-color: white;padding-right: 0.2em;padding-left: 0.2em;position: relative;}#sk-container-id-9 div.sk-item {position: relative;z-index: 1;}#sk-container-id-9 div.sk-parallel {display: flex;align-items: stretch;justify-content: center;background-color: white;position: relative;}#sk-container-id-9 div.sk-item::before, #sk-container-id-9 div.sk-parallel-item::before {content: \"\";position: absolute;border-left: 1px solid gray;box-sizing: border-box;top: 0;bottom: 0;left: 50%;z-index: -1;}#sk-container-id-9 div.sk-parallel-item {display: flex;flex-direction: column;z-index: 1;position: relative;background-color: white;}#sk-container-id-9 div.sk-parallel-item:first-child::after {align-self: flex-end;width: 50%;}#sk-container-id-9 div.sk-parallel-item:last-child::after {align-self: flex-start;width: 50%;}#sk-container-id-9 div.sk-parallel-item:only-child::after {width: 0;}#sk-container-id-9 div.sk-dashed-wrapped {border: 1px dashed gray;margin: 0 0.4em 0.5em 0.4em;box-sizing: border-box;padding-bottom: 0.4em;background-color: white;}#sk-container-id-9 div.sk-label label {font-family: monospace;font-weight: bold;display: inline-block;line-height: 1.2em;}#sk-container-id-9 div.sk-label-container {text-align: center;}#sk-container-id-9 div.sk-container {/* jupyter's `normalize.less` sets `[hidden] { display: none; }` but bootstrap.min.css set `[hidden] { display: none !important; }` so we also need the `!important` here to be able to override the default hidden behavior on the sphinx rendered scikit-learn.org. See: https://github.com/scikit-learn/scikit-learn/issues/21755 */display: inline-block !important;position: relative;}#sk-container-id-9 div.sk-text-repr-fallback {display: none;}</style><div id=\"sk-container-id-9\" class=\"sk-top-container\"><div class=\"sk-text-repr-fallback\"><pre>DecisionTreeClassifier(criterion=&#x27;entropy&#x27;, max_depth=4)</pre><b>In a Jupyter environment, please rerun this cell to show the HTML representation or trust the notebook. <br />On GitHub, the HTML representation is unable to render, please try loading this page with nbviewer.org.</b></div><div class=\"sk-container\" hidden><div class=\"sk-item\"><div class=\"sk-estimator sk-toggleable\"><input class=\"sk-toggleable__control sk-hidden--visually\" id=\"sk-estimator-id-9\" type=\"checkbox\" checked><label for=\"sk-estimator-id-9\" class=\"sk-toggleable__label sk-toggleable__label-arrow\">DecisionTreeClassifier</label><div class=\"sk-toggleable__content\"><pre>DecisionTreeClassifier(criterion=&#x27;entropy&#x27;, max_depth=4)</pre></div></div></div></div></div>"
      ],
      "text/plain": [
       "DecisionTreeClassifier(criterion='entropy', max_depth=4)"
      ]
     },
     "execution_count": 120,
     "metadata": {},
     "output_type": "execute_result"
    }
   ],
   "source": [
    "Iris_tree.fit(X_train,Y_train)"
   ]
  },
  {
   "cell_type": "markdown",
   "id": "02581acc",
   "metadata": {},
   "source": [
    "# prediction"
   ]
  },
  {
   "cell_type": "code",
   "execution_count": 121,
   "id": "e25a84ce",
   "metadata": {},
   "outputs": [],
   "source": [
    "predTree = Iris_tree.predict(X_test)"
   ]
  },
  {
   "cell_type": "code",
   "execution_count": 122,
   "id": "36222aa3",
   "metadata": {},
   "outputs": [
    {
     "name": "stdout",
     "output_type": "stream",
     "text": [
      "[['Iris-setosa']\n",
      " ['Iris-versicolor']\n",
      " ['Iris-versicolor']\n",
      " ['Iris-setosa']\n",
      " ['Iris-virginica']\n",
      " ['Iris-versicolor']\n",
      " ['Iris-virginica']\n",
      " ['Iris-setosa']\n",
      " ['Iris-setosa']\n",
      " ['Iris-virginica']\n",
      " ['Iris-versicolor']\n",
      " ['Iris-setosa']\n",
      " ['Iris-virginica']\n",
      " ['Iris-versicolor']\n",
      " ['Iris-versicolor']]\n"
     ]
    }
   ],
   "source": [
    "#print(predTree[0:5])\n",
    "print(Y_test[0:15])"
   ]
  },
  {
   "cell_type": "code",
   "execution_count": 123,
   "id": "d551dee9",
   "metadata": {},
   "outputs": [
    {
     "name": "stdout",
     "output_type": "stream",
     "text": [
      "                 precision    recall  f1-score   support\n",
      "\n",
      "    Iris-setosa       1.00      1.00      1.00        14\n",
      "Iris-versicolor       1.00      0.94      0.97        18\n",
      " Iris-virginica       0.93      1.00      0.96        13\n",
      "\n",
      "       accuracy                           0.98        45\n",
      "      macro avg       0.98      0.98      0.98        45\n",
      "   weighted avg       0.98      0.98      0.98        45\n",
      "\n",
      "Accuracy: 0.9777777777777777\n"
     ]
    }
   ],
   "source": [
    "# Print the classification report\n",
    "print(classification_report(Y_test,predTree))\n",
    "\n",
    "# Calculate the accuracy\n",
    "accuracy = accuracy_score(Y_test, predTree)\n",
    "print(f'Accuracy: {accuracy}')"
   ]
  },
  {
   "cell_type": "code",
   "execution_count": 124,
   "id": "18d4bc1c",
   "metadata": {},
   "outputs": [
    {
     "name": "stdout",
     "output_type": "stream",
     "text": [
      "Training accuracy: 1.0\n",
      "Test accuracy: 0.9777777777777777\n"
     ]
    }
   ],
   "source": [
    "# Predict on the training set\n",
    "predTree_train = Iris_tree.predict(X_train)\n",
    "\n",
    "# Calculate training set accuracy.\n",
    "train_accuracy = accuracy_score(Y_train, predTree_train)\n",
    "print(f'Training accuracy: {train_accuracy}')\n",
    "\n",
    "# Calculate test set accuracy.\n",
    "test_accuracy = accuracy_score(Y_test, predTree)\n",
    "print(f'Test accuracy: {test_accuracy}')"
   ]
  },
  {
   "cell_type": "code",
   "execution_count": 125,
   "id": "bf2dc64f",
   "metadata": {},
   "outputs": [
    {
     "name": "stdout",
     "output_type": "stream",
     "text": [
      "                 precision    recall  f1-score   support\n",
      "\n",
      "    Iris-setosa       1.00      1.00      1.00        14\n",
      "Iris-versicolor       1.00      0.94      0.97        18\n",
      " Iris-virginica       0.93      1.00      0.96        13\n",
      "\n",
      "       accuracy                           0.98        45\n",
      "      macro avg       0.98      0.98      0.98        45\n",
      "   weighted avg       0.98      0.98      0.98        45\n",
      "\n",
      "Accuracy: 0.9777777777777777\n"
     ]
    }
   ],
   "source": [
    "# Print the classification report\n",
    "print(classification_report(Y_test, predTree))\n",
    "\n",
    "# Calculate the accuracy\n",
    "accuracy = accuracy_score(Y_test, predTree)\n",
    "print(f'Accuracy: {accuracy}')"
   ]
  },
  {
   "cell_type": "markdown",
   "id": "37b1983e",
   "metadata": {},
   "source": [
    "# Simplest way- DecisionTreeClassifier "
   ]
  },
  {
   "cell_type": "code",
   "execution_count": 116,
   "id": "89f2f5b0",
   "metadata": {},
   "outputs": [
    {
     "name": "stdout",
     "output_type": "stream",
     "text": [
      "DecisionTreeClassifier()\n"
     ]
    }
   ],
   "source": [
    "model=DecisionTreeClassifier()\n",
    "\n",
    "model.fit(X,Y)\n",
    "print(model)"
   ]
  },
  {
   "cell_type": "code",
   "execution_count": 117,
   "id": "97bb957c",
   "metadata": {},
   "outputs": [
    {
     "data": {
      "text/plain": [
       "1.0"
      ]
     },
     "execution_count": 117,
     "metadata": {},
     "output_type": "execute_result"
    }
   ],
   "source": [
    "model.score(X,Y)"
   ]
  },
  {
   "cell_type": "code",
   "execution_count": 128,
   "id": "ef67c299",
   "metadata": {},
   "outputs": [
    {
     "name": "stdout",
     "output_type": "stream",
     "text": [
      "                 precision    recall  f1-score   support\n",
      "\n",
      "    Iris-setosa       1.00      1.00      1.00        50\n",
      "Iris-versicolor       1.00      1.00      1.00        50\n",
      " Iris-virginica       1.00      1.00      1.00        50\n",
      "\n",
      "       accuracy                           1.00       150\n",
      "      macro avg       1.00      1.00      1.00       150\n",
      "   weighted avg       1.00      1.00      1.00       150\n",
      "\n",
      "[[50  0  0]\n",
      " [ 0 50  0]\n",
      " [ 0  0 50]]\n"
     ]
    }
   ],
   "source": [
    "expected=Y\n",
    "predicted=model.predict(X)\n",
    "\n",
    "print(metrics.classification_report(expected,predicted))\n",
    "print(metrics.confusion_matrix(expected,predicted))"
   ]
  },
  {
   "cell_type": "markdown",
   "id": "e9a14f1e",
   "metadata": {},
   "source": [
    "\n",
    "#  Model Evaluation\n",
    "\n",
    "A confusion matrix is a table that allows you to visualize the performance of a classification algorithm. It compares the actual target values with the values predicted by the model."
   ]
  },
  {
   "cell_type": "code",
   "execution_count": 104,
   "id": "69f6d482",
   "metadata": {},
   "outputs": [],
   "source": [
    "#Import Sklearn.metrics library for confusion matrix and model accuracy score. \n",
    "from sklearn.metrics import confusion_matrix, classification_report, accuracy_score"
   ]
  },
  {
   "cell_type": "code",
   "execution_count": 105,
   "id": "e08f696c",
   "metadata": {},
   "outputs": [
    {
     "data": {
      "image/png": "[encoded data removed]",
      "text/plain": [
       "<Figure size 640x480 with 2 Axes>"
      ]
     },
     "metadata": {},
     "output_type": "display_data"
    }
   ],
   "source": [
    "# predTree are predicted labels and Y_test is your true labels\n",
    "conf_matrix = confusion_matrix(Y_test, predTree)\n",
    "\n",
    "# Plot the confusion matrix\n",
    "sns.heatmap(conf_matrix, annot=True, fmt='d', cmap='Blues', xticklabels=range(conf_matrix.shape[1]), yticklabels=range(conf_matrix.shape[0]))\n",
    "plt.xlabel('Predicted')\n",
    "plt.ylabel('Actual')\n",
    "plt.show()\n"
   ]
  },
  {
   "cell_type": "code",
   "execution_count": 130,
   "id": "f12ea86f",
   "metadata": {},
   "outputs": [
    {
     "name": "stdout",
     "output_type": "stream",
     "text": [
      "Please enter the following information to make a prediction:\n",
      "Sepal length (cm): 5.1\n",
      "Sepal width (cm): 3.5\n",
      "Petal length (cm): 1.4\n",
      "Petal width (cm): 0.2\n"
     ]
    },
    {
     "ename": "ValueError",
     "evalue": "X has 4 features, but DecisionTreeClassifier is expecting 5 features as input.",
     "output_type": "error",
     "traceback": [
      "\u001b[1;31m---------------------------------------------------------------------------\u001b[0m",
      "\u001b[1;31mValueError\u001b[0m                                Traceback (most recent call last)",
      "Cell \u001b[1;32mIn[130], line 11\u001b[0m\n\u001b[0;32m      8\u001b[0m user_input \u001b[38;5;241m=\u001b[39m np\u001b[38;5;241m.\u001b[39marray([[sepal_length, sepal_width, petal_length, petal_width]])\n\u001b[0;32m     10\u001b[0m \u001b[38;5;66;03m# Make the prediction\u001b[39;00m\n\u001b[1;32m---> 11\u001b[0m predicted \u001b[38;5;241m=\u001b[39m \u001b[43mIris_tree\u001b[49m\u001b[38;5;241;43m.\u001b[39;49m\u001b[43mpredict\u001b[49m\u001b[43m(\u001b[49m\u001b[43muser_input\u001b[49m\u001b[43m)\u001b[49m\n\u001b[0;32m     13\u001b[0m \u001b[38;5;66;03m# Output the prediction\u001b[39;00m\n\u001b[0;32m     14\u001b[0m \u001b[38;5;66;03m#target_names = Y_test\u001b[39;00m\n\u001b[0;32m     15\u001b[0m \u001b[38;5;66;03m#predicted_class = target_names[predTree[0]]\u001b[39;00m\n\u001b[0;32m     16\u001b[0m \u001b[38;5;66;03m# Output the prediction\u001b[39;00m\n\u001b[0;32m     17\u001b[0m \u001b[38;5;28mprint\u001b[39m(\u001b[38;5;124m\"\u001b[39m\u001b[38;5;124mPredicted class:\u001b[39m\u001b[38;5;124m\"\u001b[39m, prediction[\u001b[38;5;241m0\u001b[39m])\n",
      "File \u001b[1;32m~\\anaconda3\\lib\\site-packages\\sklearn\\tree\\_classes.py:426\u001b[0m, in \u001b[0;36mBaseDecisionTree.predict\u001b[1;34m(self, X, check_input)\u001b[0m\n\u001b[0;32m    403\u001b[0m \u001b[38;5;124;03m\"\"\"Predict class or regression value for X.\u001b[39;00m\n\u001b[0;32m    404\u001b[0m \n\u001b[0;32m    405\u001b[0m \u001b[38;5;124;03mFor a classification model, the predicted class for each sample in X is\u001b[39;00m\n\u001b[1;32m   (...)\u001b[0m\n\u001b[0;32m    423\u001b[0m \u001b[38;5;124;03m    The predicted classes, or the predict values.\u001b[39;00m\n\u001b[0;32m    424\u001b[0m \u001b[38;5;124;03m\"\"\"\u001b[39;00m\n\u001b[0;32m    425\u001b[0m check_is_fitted(\u001b[38;5;28mself\u001b[39m)\n\u001b[1;32m--> 426\u001b[0m X \u001b[38;5;241m=\u001b[39m \u001b[38;5;28;43mself\u001b[39;49m\u001b[38;5;241;43m.\u001b[39;49m\u001b[43m_validate_X_predict\u001b[49m\u001b[43m(\u001b[49m\u001b[43mX\u001b[49m\u001b[43m,\u001b[49m\u001b[43m \u001b[49m\u001b[43mcheck_input\u001b[49m\u001b[43m)\u001b[49m\n\u001b[0;32m    427\u001b[0m proba \u001b[38;5;241m=\u001b[39m \u001b[38;5;28mself\u001b[39m\u001b[38;5;241m.\u001b[39mtree_\u001b[38;5;241m.\u001b[39mpredict(X)\n\u001b[0;32m    428\u001b[0m n_samples \u001b[38;5;241m=\u001b[39m X\u001b[38;5;241m.\u001b[39mshape[\u001b[38;5;241m0\u001b[39m]\n",
      "File \u001b[1;32m~\\anaconda3\\lib\\site-packages\\sklearn\\tree\\_classes.py:392\u001b[0m, in \u001b[0;36mBaseDecisionTree._validate_X_predict\u001b[1;34m(self, X, check_input)\u001b[0m\n\u001b[0;32m    390\u001b[0m \u001b[38;5;124;03m\"\"\"Validate the training data on predict (probabilities).\"\"\"\u001b[39;00m\n\u001b[0;32m    391\u001b[0m \u001b[38;5;28;01mif\u001b[39;00m check_input:\n\u001b[1;32m--> 392\u001b[0m     X \u001b[38;5;241m=\u001b[39m \u001b[38;5;28;43mself\u001b[39;49m\u001b[38;5;241;43m.\u001b[39;49m\u001b[43m_validate_data\u001b[49m\u001b[43m(\u001b[49m\u001b[43mX\u001b[49m\u001b[43m,\u001b[49m\u001b[43m \u001b[49m\u001b[43mdtype\u001b[49m\u001b[38;5;241;43m=\u001b[39;49m\u001b[43mDTYPE\u001b[49m\u001b[43m,\u001b[49m\u001b[43m \u001b[49m\u001b[43maccept_sparse\u001b[49m\u001b[38;5;241;43m=\u001b[39;49m\u001b[38;5;124;43m\"\u001b[39;49m\u001b[38;5;124;43mcsr\u001b[39;49m\u001b[38;5;124;43m\"\u001b[39;49m\u001b[43m,\u001b[49m\u001b[43m \u001b[49m\u001b[43mreset\u001b[49m\u001b[38;5;241;43m=\u001b[39;49m\u001b[38;5;28;43;01mFalse\u001b[39;49;00m\u001b[43m)\u001b[49m\n\u001b[0;32m    393\u001b[0m     \u001b[38;5;28;01mif\u001b[39;00m issparse(X) \u001b[38;5;129;01mand\u001b[39;00m (\n\u001b[0;32m    394\u001b[0m         X\u001b[38;5;241m.\u001b[39mindices\u001b[38;5;241m.\u001b[39mdtype \u001b[38;5;241m!=\u001b[39m np\u001b[38;5;241m.\u001b[39mintc \u001b[38;5;129;01mor\u001b[39;00m X\u001b[38;5;241m.\u001b[39mindptr\u001b[38;5;241m.\u001b[39mdtype \u001b[38;5;241m!=\u001b[39m np\u001b[38;5;241m.\u001b[39mintc\n\u001b[0;32m    395\u001b[0m     ):\n\u001b[0;32m    396\u001b[0m         \u001b[38;5;28;01mraise\u001b[39;00m \u001b[38;5;167;01mValueError\u001b[39;00m(\u001b[38;5;124m\"\u001b[39m\u001b[38;5;124mNo support for np.int64 index based sparse matrices\u001b[39m\u001b[38;5;124m\"\u001b[39m)\n",
      "File \u001b[1;32m~\\anaconda3\\lib\\site-packages\\sklearn\\base.py:569\u001b[0m, in \u001b[0;36mBaseEstimator._validate_data\u001b[1;34m(self, X, y, reset, validate_separately, **check_params)\u001b[0m\n\u001b[0;32m    566\u001b[0m     out \u001b[38;5;241m=\u001b[39m X, y\n\u001b[0;32m    568\u001b[0m \u001b[38;5;28;01mif\u001b[39;00m \u001b[38;5;129;01mnot\u001b[39;00m no_val_X \u001b[38;5;129;01mand\u001b[39;00m check_params\u001b[38;5;241m.\u001b[39mget(\u001b[38;5;124m\"\u001b[39m\u001b[38;5;124mensure_2d\u001b[39m\u001b[38;5;124m\"\u001b[39m, \u001b[38;5;28;01mTrue\u001b[39;00m):\n\u001b[1;32m--> 569\u001b[0m     \u001b[38;5;28;43mself\u001b[39;49m\u001b[38;5;241;43m.\u001b[39;49m\u001b[43m_check_n_features\u001b[49m\u001b[43m(\u001b[49m\u001b[43mX\u001b[49m\u001b[43m,\u001b[49m\u001b[43m \u001b[49m\u001b[43mreset\u001b[49m\u001b[38;5;241;43m=\u001b[39;49m\u001b[43mreset\u001b[49m\u001b[43m)\u001b[49m\n\u001b[0;32m    571\u001b[0m \u001b[38;5;28;01mreturn\u001b[39;00m out\n",
      "File \u001b[1;32m~\\anaconda3\\lib\\site-packages\\sklearn\\base.py:370\u001b[0m, in \u001b[0;36mBaseEstimator._check_n_features\u001b[1;34m(self, X, reset)\u001b[0m\n\u001b[0;32m    367\u001b[0m     \u001b[38;5;28;01mreturn\u001b[39;00m\n\u001b[0;32m    369\u001b[0m \u001b[38;5;28;01mif\u001b[39;00m n_features \u001b[38;5;241m!=\u001b[39m \u001b[38;5;28mself\u001b[39m\u001b[38;5;241m.\u001b[39mn_features_in_:\n\u001b[1;32m--> 370\u001b[0m     \u001b[38;5;28;01mraise\u001b[39;00m \u001b[38;5;167;01mValueError\u001b[39;00m(\n\u001b[0;32m    371\u001b[0m         \u001b[38;5;124mf\u001b[39m\u001b[38;5;124m\"\u001b[39m\u001b[38;5;124mX has \u001b[39m\u001b[38;5;132;01m{\u001b[39;00mn_features\u001b[38;5;132;01m}\u001b[39;00m\u001b[38;5;124m features, but \u001b[39m\u001b[38;5;132;01m{\u001b[39;00m\u001b[38;5;28mself\u001b[39m\u001b[38;5;241m.\u001b[39m\u001b[38;5;18m__class__\u001b[39m\u001b[38;5;241m.\u001b[39m\u001b[38;5;18m__name__\u001b[39m\u001b[38;5;132;01m}\u001b[39;00m\u001b[38;5;124m \u001b[39m\u001b[38;5;124m\"\u001b[39m\n\u001b[0;32m    372\u001b[0m         \u001b[38;5;124mf\u001b[39m\u001b[38;5;124m\"\u001b[39m\u001b[38;5;124mis expecting \u001b[39m\u001b[38;5;132;01m{\u001b[39;00m\u001b[38;5;28mself\u001b[39m\u001b[38;5;241m.\u001b[39mn_features_in_\u001b[38;5;132;01m}\u001b[39;00m\u001b[38;5;124m features as input.\u001b[39m\u001b[38;5;124m\"\u001b[39m\n\u001b[0;32m    373\u001b[0m     )\n",
      "\u001b[1;31mValueError\u001b[0m: X has 4 features, but DecisionTreeClassifier is expecting 5 features as input."
     ]
    }
   ],
   "source": [
    "# Algorithm to check if the model works according with user input\n",
    "print(\"Please enter the following information to make a prediction:\")\n",
    "sepal_length = float(input(\"Sepal length (cm): \"))\n",
    "sepal_width = float(input(\"Sepal width (cm): \"))\n",
    "petal_length = float(input(\"Petal length (cm): \"))\n",
    "petal_width = float(input(\"Petal width (cm): \"))\n",
    "\n",
    "user_input = np.array([[sepal_length, sepal_width, petal_length, petal_width]])\n",
    "\n",
    "# Make the prediction\n",
    "predicted = Iris_tree.predict(user_input)\n",
    "\n",
    "# Output the prediction\n",
    "#target_names = Y_test\n",
    "#predicted_class = target_names[predTree[0]]\n",
    "# Output the prediction\n",
    "print(\"Predicted class:\", prediction[0])\n",
    "\n",
    "print(f\"The predicted class is: {predicted_class}\")"
   ]
  },
  {
   "cell_type": "code",
   "execution_count": null,
   "id": "73a578ab",
   "metadata": {},
   "outputs": [],
   "source": []
  },
  {
   "cell_type": "code",
   "execution_count": null,
   "id": "5819a10c",
   "metadata": {},
   "outputs": [],
   "source": []
  }
 ],
 "metadata": {
  "kernelspec": {
   "display_name": "Python 3 (ipykernel)",
   "language": "python",
   "name": "python3"
  },
  "language_info": {
   "codemirror_mode": {
    "name": "ipython",
    "version": 3
   },
   "file_extension": ".py",
   "mimetype": "text/x-python",
   "name": "python",
   "nbconvert_exporter": "python",
   "pygments_lexer": "ipython3",
   "version": "3.10.9"
  }
 },
 "nbformat": 4,
 "nbformat_minor": 5
}
